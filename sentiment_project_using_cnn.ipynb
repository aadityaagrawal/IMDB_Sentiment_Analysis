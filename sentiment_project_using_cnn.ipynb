{
 "cells": [
  {
   "cell_type": "markdown",
   "metadata": {},
   "source": [
    "I made this model using CNN for comparing the result obatained by Sequence-to-Sequence model \n",
    "\n",
    "obseravtions : \n",
    "1) There is a huge time difference between the tranining this model as compare to sequence to sequence model where on an average every epoch is train in 2 s andhere it took approx 12s per epoch. \n",
    "\n",
    "2) We got better training accuracy on training data but got high validation loss as compare to sequence to sequence model .\n"
   ]
  },
  {
   "cell_type": "code",
   "execution_count": 13,
   "metadata": {},
   "outputs": [],
   "source": [
    "import tensorflow as tf\n",
    "from tensorflow import keras \n",
    "import numpy as np\n",
    "import pandas as pd"
   ]
  },
  {
   "cell_type": "code",
   "execution_count": 14,
   "metadata": {},
   "outputs": [],
   "source": [
    "Data = pd.read_csv(\"G:\\\\Models\\\\IMBD_Sentiment\\\\Dataset\\\\IMDB_Dataset.csv\")"
   ]
  },
  {
   "cell_type": "code",
   "execution_count": 15,
   "metadata": {},
   "outputs": [
    {
     "name": "stdout",
     "output_type": "stream",
     "text": [
      "                                              review sentiment\n",
      "0  One of the other reviewers has mentioned that ...  positive\n",
      "1  A wonderful little production. <br /><br />The...  positive\n",
      "2  I thought this was a wonderful way to spend ti...  positive\n",
      "3  Basically there's a family where a little boy ...  negative\n",
      "4  Petter Mattei's \"Love in the Time of Money\" is...  positive\n"
     ]
    }
   ],
   "source": [
    "print(Data.head())"
   ]
  },
  {
   "cell_type": "code",
   "execution_count": 16,
   "metadata": {},
   "outputs": [],
   "source": [
    "rev = Data['review']\n",
    "label = Data['sentiment']"
   ]
  },
  {
   "cell_type": "code",
   "execution_count": 17,
   "metadata": {},
   "outputs": [],
   "source": [
    "train_rev = rev[:40000]\n",
    "test_rev = rev[40000:]\n",
    "train_label = label[:40000]\n",
    "test_label = label[40000:]"
   ]
  },
  {
   "cell_type": "code",
   "execution_count": 18,
   "metadata": {},
   "outputs": [
    {
     "name": "stdout",
     "output_type": "stream",
     "text": [
      "[1 1 1 ... 1 0 0]\n"
     ]
    }
   ],
   "source": [
    "from sklearn import preprocessing\n",
    "le = preprocessing.LabelEncoder()\n",
    "train_label = le.fit_transform(train_label)\n",
    "test_label = le.fit_transform(test_label)\n",
    "\n",
    "print(train_label)"
   ]
  },
  {
   "cell_type": "code",
   "execution_count": null,
   "metadata": {},
   "outputs": [],
   "source": []
  },
  {
   "cell_type": "code",
   "execution_count": 7,
   "metadata": {},
   "outputs": [],
   "source": [
    "from tensorflow.keras.preprocessing.text import Tokenizer\n",
    "from tensorflow.keras.preprocessing.sequence import pad_sequences\n",
    "tokenizer = Tokenizer(num_words=10000 , oov_token= \"<OOV>\")\n",
    "\n",
    "tokenizer.fit_on_texts(Data[\"review\"])"
   ]
  },
  {
   "cell_type": "code",
   "execution_count": 8,
   "metadata": {},
   "outputs": [],
   "source": [
    "train_rev = tokenizer.texts_to_sequences(train_rev)\n",
    "test_rev = tokenizer.texts_to_sequences(test_rev)"
   ]
  },
  {
   "cell_type": "code",
   "execution_count": 9,
   "metadata": {},
   "outputs": [],
   "source": [
    "train_rev = pad_sequences(train_rev , padding = 'post' , maxlen=300 )\n",
    "test_rev = pad_sequences(test_rev , padding = 'post' , maxlen=300 )"
   ]
  },
  {
   "cell_type": "code",
   "execution_count": 10,
   "metadata": {},
   "outputs": [],
   "source": [
    "model = keras.Sequential([ keras.layers.Embedding(10000,8,input_length=300),\n",
    "                           keras.layers.Conv1D(128, 5, activation='relu') ,\n",
    "                           keras.layers.GlobalAveragePooling1D(),\n",
    "                           keras.layers.Dense(16 , activation='relu'),\n",
    "                           keras.layers.Dense(1,activation='sigmoid')])"
   ]
  },
  {
   "cell_type": "code",
   "execution_count": 11,
   "metadata": {},
   "outputs": [],
   "source": [
    "model.compile(optimizer='adam' , loss= \"binary_crossentropy\" , metrics=['accuracy'])"
   ]
  },
  {
   "cell_type": "code",
   "execution_count": 12,
   "metadata": {},
   "outputs": [
    {
     "name": "stdout",
     "output_type": "stream",
     "text": [
      "Epoch 1/30\n",
      "79/79 [==============================] - 14s 170ms/step - loss: 0.6904 - accuracy: 0.5390 - val_loss: 0.6217 - val_accuracy: 0.7682\n",
      "Epoch 2/30\n",
      "79/79 [==============================] - 13s 160ms/step - loss: 0.5365 - accuracy: 0.8070 - val_loss: 0.3308 - val_accuracy: 0.8745\n",
      "Epoch 3/30\n",
      "79/79 [==============================] - 12s 153ms/step - loss: 0.2918 - accuracy: 0.8868 - val_loss: 0.2926 - val_accuracy: 0.8808\n",
      "Epoch 4/30\n",
      "79/79 [==============================] - 13s 165ms/step - loss: 0.2316 - accuracy: 0.9122 - val_loss: 0.2728 - val_accuracy: 0.8947\n",
      "Epoch 5/30\n",
      "79/79 [==============================] - 14s 172ms/step - loss: 0.1993 - accuracy: 0.9240 - val_loss: 0.2718 - val_accuracy: 0.8947\n",
      "Epoch 6/30\n",
      "79/79 [==============================] - 13s 170ms/step - loss: 0.1846 - accuracy: 0.9315 - val_loss: 0.2850 - val_accuracy: 0.8913\n",
      "Epoch 7/30\n",
      "79/79 [==============================] - 13s 158ms/step - loss: 0.1695 - accuracy: 0.9378 - val_loss: 0.2910 - val_accuracy: 0.8883\n",
      "Epoch 8/30\n",
      "79/79 [==============================] - 13s 168ms/step - loss: 0.1544 - accuracy: 0.9444 - val_loss: 0.2937 - val_accuracy: 0.8902\n",
      "Epoch 9/30\n",
      "79/79 [==============================] - 15s 185ms/step - loss: 0.1433 - accuracy: 0.9466 - val_loss: 0.3046 - val_accuracy: 0.8872\n",
      "Epoch 10/30\n",
      "79/79 [==============================] - 12s 152ms/step - loss: 0.1350 - accuracy: 0.9519 - val_loss: 0.3140 - val_accuracy: 0.8874\n",
      "Epoch 11/30\n",
      "79/79 [==============================] - 12s 153ms/step - loss: 0.1279 - accuracy: 0.9549 - val_loss: 0.3336 - val_accuracy: 0.8838\n",
      "Epoch 12/30\n",
      "79/79 [==============================] - 13s 158ms/step - loss: 0.1240 - accuracy: 0.9560 - val_loss: 0.3405 - val_accuracy: 0.8825\n",
      "Epoch 13/30\n",
      "79/79 [==============================] - 14s 174ms/step - loss: 0.1169 - accuracy: 0.9605 - val_loss: 0.3495 - val_accuracy: 0.8817\n",
      "Epoch 14/30\n",
      "79/79 [==============================] - 14s 174ms/step - loss: 0.1134 - accuracy: 0.9614 - val_loss: 0.3562 - val_accuracy: 0.8828\n",
      "Epoch 15/30\n",
      "79/79 [==============================] - 14s 177ms/step - loss: 0.1079 - accuracy: 0.9668 - val_loss: 0.3769 - val_accuracy: 0.8779\n",
      "Epoch 16/30\n",
      "79/79 [==============================] - 13s 159ms/step - loss: 0.1032 - accuracy: 0.9675 - val_loss: 0.3832 - val_accuracy: 0.8813\n",
      "Epoch 17/30\n",
      "79/79 [==============================] - 12s 152ms/step - loss: 0.0950 - accuracy: 0.9698 - val_loss: 0.3910 - val_accuracy: 0.8804\n",
      "Epoch 18/30\n",
      "79/79 [==============================] - 12s 149ms/step - loss: 0.0910 - accuracy: 0.9722 - val_loss: 0.4004 - val_accuracy: 0.8797\n",
      "Epoch 19/30\n",
      "79/79 [==============================] - 12s 149ms/step - loss: 0.0881 - accuracy: 0.9735 - val_loss: 0.4183 - val_accuracy: 0.8793\n",
      "Epoch 20/30\n",
      "79/79 [==============================] - 12s 148ms/step - loss: 0.0871 - accuracy: 0.9736 - val_loss: 0.4294 - val_accuracy: 0.8780\n",
      "Epoch 21/30\n",
      "79/79 [==============================] - 12s 149ms/step - loss: 0.0844 - accuracy: 0.9743 - val_loss: 0.4538 - val_accuracy: 0.8734\n",
      "Epoch 22/30\n",
      "79/79 [==============================] - 12s 149ms/step - loss: 0.0793 - accuracy: 0.9768 - val_loss: 0.4504 - val_accuracy: 0.8774\n",
      "Epoch 23/30\n",
      "79/79 [==============================] - 12s 148ms/step - loss: 0.0700 - accuracy: 0.9807 - val_loss: 0.4640 - val_accuracy: 0.8740\n",
      "Epoch 24/30\n",
      "79/79 [==============================] - 12s 151ms/step - loss: 0.0705 - accuracy: 0.9834 - val_loss: 0.4933 - val_accuracy: 0.8691\n",
      "Epoch 25/30\n",
      "79/79 [==============================] - 12s 150ms/step - loss: 0.0745 - accuracy: 0.9787 - val_loss: 0.4895 - val_accuracy: 0.8740\n",
      "Epoch 26/30\n",
      "79/79 [==============================] - 12s 153ms/step - loss: 0.0649 - accuracy: 0.9835 - val_loss: 0.5062 - val_accuracy: 0.8752\n",
      "Epoch 27/30\n",
      "79/79 [==============================] - 12s 152ms/step - loss: 0.0672 - accuracy: 0.9806 - val_loss: 0.5198 - val_accuracy: 0.8746\n",
      "Epoch 28/30\n",
      "79/79 [==============================] - 12s 152ms/step - loss: 0.0614 - accuracy: 0.9848 - val_loss: 0.5419 - val_accuracy: 0.8687\n",
      "Epoch 29/30\n",
      "79/79 [==============================] - 12s 154ms/step - loss: 0.0603 - accuracy: 0.9862 - val_loss: 0.5515 - val_accuracy: 0.8707\n",
      "Epoch 30/30\n",
      "79/79 [==============================] - 12s 155ms/step - loss: 0.0580 - accuracy: 0.9846 - val_loss: 0.5644 - val_accuracy: 0.8725\n"
     ]
    }
   ],
   "source": [
    "history = model.fit(train_rev,train_label , batch_size=512 , epochs=30 , validation_data=(test_rev,test_label))"
   ]
  }
 ],
 "metadata": {
  "interpreter": {
   "hash": "6b0b85c69c4c1279a0fbb0f9c4d10dc07cffbd905b576600c4aa8ca12e95fbef"
  },
  "kernelspec": {
   "display_name": "Python 3.8.7 64-bit",
   "language": "python",
   "name": "python3"
  },
  "language_info": {
   "codemirror_mode": {
    "name": "ipython",
    "version": 3
   },
   "file_extension": ".py",
   "mimetype": "text/x-python",
   "name": "python",
   "nbconvert_exporter": "python",
   "pygments_lexer": "ipython3",
   "version": "3.8.7"
  },
  "orig_nbformat": 4
 },
 "nbformat": 4,
 "nbformat_minor": 2
}
