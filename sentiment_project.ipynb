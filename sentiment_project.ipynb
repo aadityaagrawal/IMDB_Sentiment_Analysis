{
 "cells": [
  {
   "cell_type": "code",
   "execution_count": 1,
   "metadata": {},
   "outputs": [],
   "source": [
    "import tensorflow as tf\n",
    "from tensorflow import keras \n",
    "import numpy as np\n",
    "import pandas as pd"
   ]
  },
  {
   "cell_type": "code",
   "execution_count": 2,
   "metadata": {},
   "outputs": [],
   "source": [
    "Data = pd.read_csv('IMDB_Dataset.csv')"
   ]
  },
  {
   "cell_type": "code",
   "execution_count": 3,
   "metadata": {},
   "outputs": [
    {
     "name": "stdout",
     "output_type": "stream",
     "text": [
      "                                              review sentiment\n",
      "0  One of the other reviewers has mentioned that ...  positive\n",
      "1  A wonderful little production. <br /><br />The...  positive\n",
      "2  I thought this was a wonderful way to spend ti...  positive\n",
      "3  Basically there's a family where a little boy ...  negative\n",
      "4  Petter Mattei's \"Love in the Time of Money\" is...  positive\n"
     ]
    }
   ],
   "source": [
    "print(Data.head())"
   ]
  },
  {
   "cell_type": "code",
   "execution_count": 4,
   "metadata": {},
   "outputs": [],
   "source": [
    "rev = Data['review']\n",
    "label = Data['sentiment']"
   ]
  },
  {
   "cell_type": "code",
   "execution_count": 5,
   "metadata": {},
   "outputs": [],
   "source": [
    "train_rev = rev[:40000]\n",
    "test_rev = rev[40000:]\n",
    "train_label = label[:40000]\n",
    "test_label = label[40000:]"
   ]
  },
  {
   "cell_type": "code",
   "execution_count": 13,
   "metadata": {},
   "outputs": [
    {
     "name": "stdout",
     "output_type": "stream",
     "text": [
      "[1 1 1 ... 1 0 0]\n"
     ]
    }
   ],
   "source": [
    "from sklearn import preprocessing\n",
    "le = preprocessing.LabelEncoder()\n",
    "train_label = le.fit_transform(train_label)\n",
    "test_label = le.fit_transform(test_label)\n",
    "\n",
    "print(train_label)"
   ]
  },
  {
   "cell_type": "code",
   "execution_count": null,
   "metadata": {},
   "outputs": [],
   "source": []
  },
  {
   "cell_type": "code",
   "execution_count": 7,
   "metadata": {},
   "outputs": [],
   "source": [
    "from tensorflow.keras.preprocessing.text import Tokenizer\n",
    "from tensorflow.keras.preprocessing.sequence import pad_sequences\n",
    "tokenizer = Tokenizer(num_words=10000 , oov_token= \"<OOV>\")\n",
    "\n",
    "tokenizer.fit_on_texts(Data[\"review\"])"
   ]
  },
  {
   "cell_type": "code",
   "execution_count": 8,
   "metadata": {},
   "outputs": [],
   "source": [
    "train_rev = tokenizer.texts_to_sequences(train_rev)\n",
    "test_rev = tokenizer.texts_to_sequences(test_rev)"
   ]
  },
  {
   "cell_type": "code",
   "execution_count": 9,
   "metadata": {},
   "outputs": [],
   "source": [
    "train_rev = pad_sequences(train_rev , padding = 'post' , maxlen=300 )\n",
    "test_rev = pad_sequences(test_rev , padding = 'post' , maxlen=300 )\n"
   ]
  },
  {
   "cell_type": "code",
   "execution_count": 10,
   "metadata": {},
   "outputs": [],
   "source": [
    "model = keras.Sequential([keras.layers.Embedding(10000,8,input_length=300),\n",
    "                        keras.layers.GlobalAveragePooling1D(),\n",
    "                        keras.layers.Dense(16 , activation='relu'),\n",
    "                        keras.layers.Dense(1,activation='sigmoid')])"
   ]
  },
  {
   "cell_type": "code",
   "execution_count": 11,
   "metadata": {},
   "outputs": [],
   "source": [
    "model.compile(optimizer='adam' , loss= \"binary_crossentropy\" , metrics=['accuracy'])"
   ]
  },
  {
   "cell_type": "code",
   "execution_count": 14,
   "metadata": {},
   "outputs": [
    {
     "name": "stdout",
     "output_type": "stream",
     "text": [
      "Epoch 1/30\n",
      "79/79 [==============================] - 2s 21ms/step - loss: 0.2513 - accuracy: 0.9056 - val_loss: 0.2829 - val_accuracy: 0.8891\n",
      "Epoch 2/30\n",
      "79/79 [==============================] - 2s 20ms/step - loss: 0.2396 - accuracy: 0.9097 - val_loss: 0.2771 - val_accuracy: 0.8917\n",
      "Epoch 3/30\n",
      "79/79 [==============================] - 1s 19ms/step - loss: 0.2297 - accuracy: 0.9136 - val_loss: 0.2728 - val_accuracy: 0.8946\n",
      "Epoch 4/30\n",
      "79/79 [==============================] - 2s 20ms/step - loss: 0.2204 - accuracy: 0.9165 - val_loss: 0.2696 - val_accuracy: 0.8953\n",
      "Epoch 5/30\n",
      "79/79 [==============================] - 2s 19ms/step - loss: 0.2129 - accuracy: 0.9197 - val_loss: 0.2683 - val_accuracy: 0.8965\n",
      "Epoch 6/30\n",
      "79/79 [==============================] - 1s 19ms/step - loss: 0.2060 - accuracy: 0.9224 - val_loss: 0.2649 - val_accuracy: 0.8974\n",
      "Epoch 7/30\n",
      "79/79 [==============================] - 1s 18ms/step - loss: 0.1993 - accuracy: 0.9249 - val_loss: 0.2644 - val_accuracy: 0.8983\n",
      "Epoch 8/30\n",
      "79/79 [==============================] - 1s 18ms/step - loss: 0.1937 - accuracy: 0.9273 - val_loss: 0.2636 - val_accuracy: 0.8990\n",
      "Epoch 9/30\n",
      "79/79 [==============================] - 1s 18ms/step - loss: 0.1884 - accuracy: 0.9294 - val_loss: 0.2632 - val_accuracy: 0.8983\n",
      "Epoch 10/30\n",
      "79/79 [==============================] - 1s 18ms/step - loss: 0.1837 - accuracy: 0.9311 - val_loss: 0.2635 - val_accuracy: 0.8987\n",
      "Epoch 11/30\n",
      "79/79 [==============================] - 1s 19ms/step - loss: 0.1790 - accuracy: 0.9329 - val_loss: 0.2643 - val_accuracy: 0.8978\n",
      "Epoch 12/30\n",
      "79/79 [==============================] - 1s 18ms/step - loss: 0.1747 - accuracy: 0.9351 - val_loss: 0.2659 - val_accuracy: 0.8978\n",
      "Epoch 13/30\n",
      "79/79 [==============================] - 1s 18ms/step - loss: 0.1708 - accuracy: 0.9364 - val_loss: 0.2667 - val_accuracy: 0.8976\n",
      "Epoch 14/30\n",
      "79/79 [==============================] - 1s 18ms/step - loss: 0.1670 - accuracy: 0.9379 - val_loss: 0.2681 - val_accuracy: 0.8968\n",
      "Epoch 15/30\n",
      "79/79 [==============================] - 1s 18ms/step - loss: 0.1633 - accuracy: 0.9396 - val_loss: 0.2707 - val_accuracy: 0.8953\n",
      "Epoch 16/30\n",
      "79/79 [==============================] - 1s 18ms/step - loss: 0.1601 - accuracy: 0.9409 - val_loss: 0.2725 - val_accuracy: 0.8961\n",
      "Epoch 17/30\n",
      "79/79 [==============================] - 2s 20ms/step - loss: 0.1567 - accuracy: 0.9421 - val_loss: 0.2741 - val_accuracy: 0.8941\n",
      "Epoch 18/30\n",
      "79/79 [==============================] - 1s 19ms/step - loss: 0.1536 - accuracy: 0.9433 - val_loss: 0.2762 - val_accuracy: 0.8949\n",
      "Epoch 19/30\n",
      "79/79 [==============================] - 2s 19ms/step - loss: 0.1508 - accuracy: 0.9449 - val_loss: 0.2813 - val_accuracy: 0.8936\n",
      "Epoch 20/30\n",
      "79/79 [==============================] - 2s 22ms/step - loss: 0.1481 - accuracy: 0.9467 - val_loss: 0.2811 - val_accuracy: 0.8934\n",
      "Epoch 21/30\n",
      "79/79 [==============================] - 2s 21ms/step - loss: 0.1452 - accuracy: 0.9477 - val_loss: 0.2836 - val_accuracy: 0.8927\n",
      "Epoch 22/30\n",
      "79/79 [==============================] - 2s 21ms/step - loss: 0.1425 - accuracy: 0.9487 - val_loss: 0.2871 - val_accuracy: 0.8925\n",
      "Epoch 23/30\n",
      "79/79 [==============================] - 2s 20ms/step - loss: 0.1400 - accuracy: 0.9503 - val_loss: 0.2900 - val_accuracy: 0.8929\n",
      "Epoch 24/30\n",
      "79/79 [==============================] - 2s 21ms/step - loss: 0.1382 - accuracy: 0.9509 - val_loss: 0.2924 - val_accuracy: 0.8915\n",
      "Epoch 25/30\n",
      "79/79 [==============================] - 2s 21ms/step - loss: 0.1354 - accuracy: 0.9520 - val_loss: 0.2968 - val_accuracy: 0.8910\n",
      "Epoch 26/30\n",
      "79/79 [==============================] - 2s 19ms/step - loss: 0.1335 - accuracy: 0.9524 - val_loss: 0.2993 - val_accuracy: 0.8903\n",
      "Epoch 27/30\n",
      "79/79 [==============================] - 1s 18ms/step - loss: 0.1306 - accuracy: 0.9534 - val_loss: 0.3024 - val_accuracy: 0.8911\n",
      "Epoch 28/30\n",
      "79/79 [==============================] - 2s 25ms/step - loss: 0.1289 - accuracy: 0.9548 - val_loss: 0.3053 - val_accuracy: 0.8912\n",
      "Epoch 29/30\n",
      "79/79 [==============================] - 3s 35ms/step - loss: 0.1263 - accuracy: 0.9553 - val_loss: 0.3099 - val_accuracy: 0.8903\n",
      "Epoch 30/30\n",
      "79/79 [==============================] - 3s 32ms/step - loss: 0.1246 - accuracy: 0.9565 - val_loss: 0.3160 - val_accuracy: 0.8884\n"
     ]
    }
   ],
   "source": [
    "history = model.fit(train_rev,train_label , batch_size=512 , epochs=30 , validation_data=(test_rev,test_label))"
   ]
  },
  {
   "cell_type": "code",
   "execution_count": 15,
   "metadata": {},
   "outputs": [
    {
     "name": "stdout",
     "output_type": "stream",
     "text": [
      "313/313 [==============================] - 1s 2ms/step - loss: 0.3160 - accuracy: 0.8884\n"
     ]
    },
    {
     "data": {
      "text/plain": [
       "[0.31595996022224426, 0.8884000182151794]"
      ]
     },
     "execution_count": 15,
     "metadata": {},
     "output_type": "execute_result"
    }
   ],
   "source": [
    "model.evaluate(test_rev , test_label)"
   ]
  },
  {
   "cell_type": "code",
   "execution_count": null,
   "metadata": {},
   "outputs": [],
   "source": []
  }
 ],
 "metadata": {
  "interpreter": {
   "hash": "6b0b85c69c4c1279a0fbb0f9c4d10dc07cffbd905b576600c4aa8ca12e95fbef"
  },
  "kernelspec": {
   "display_name": "Python 3.8.7 64-bit",
   "language": "python",
   "name": "python3"
  },
  "language_info": {
   "codemirror_mode": {
    "name": "ipython",
    "version": 3
   },
   "file_extension": ".py",
   "mimetype": "text/x-python",
   "name": "python",
   "nbconvert_exporter": "python",
   "pygments_lexer": "ipython3",
   "version": "3.8.7"
  },
  "orig_nbformat": 4
 },
 "nbformat": 4,
 "nbformat_minor": 2
}
